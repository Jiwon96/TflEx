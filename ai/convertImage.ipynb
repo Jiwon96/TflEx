{
 "cells": [
  {
   "cell_type": "code",
   "execution_count": 3,
   "id": "d22e7a2b-2d03-4fa5-8bc6-f1025eb7d1ee",
   "metadata": {},
   "outputs": [],
   "source": [
    "from PIL import Image\n",
    "import glob\n",
    "import os"
   ]
  },
  {
   "cell_type": "code",
   "execution_count": 14,
   "id": "d576d89e-cd8d-4dd8-9863-4a58da338d83",
   "metadata": {},
   "outputs": [
    {
     "name": "stdout",
     "output_type": "stream",
     "text": [
      "['data2/0/image1.png', 'data2/0/image2.png', 'data2/0/la_defense.jpg', 'data2/0/my_image.jpg', 'data2/1/my_image2.jpg']\n",
      "완료\n"
     ]
    }
   ],
   "source": [
    "input_folder = 'data2'\n",
    "output_folder='data2_resize'\n",
    "\n",
    "image_extensions = ['*.png', '*.jpg']\n",
    "if not os.path.exists(output_folder):\n",
    "    os.makedirs(output_folder)\n",
    "image_files = []\n",
    "\n",
    "for extension in image_extensions:\n",
    "    for d in ['0', '1']:\n",
    "        image_files.extend(glob.glob(os.path.join(os.path.join(input_folder, d), extension)))\n",
    "\n",
    "print(image_files)\n",
    "\n",
    "for i, image_path in enumerate(image_files):\n",
    "    path = image_path.split('/')\n",
    "    output_path = os.path.join(output_folder, path[-2])\n",
    "    if not os.path.exists(output_path):\n",
    "        os.makedirs(output_path)\n",
    "    try:\n",
    "        image = Image.open(image_path)\n",
    "        resized_image = image.resize((64, 64), Image.Resampling.LANCZOS)\n",
    "        resized_image.save(os.path.join(output_path, path[-1]))\n",
    "    \n",
    "    except Exception as e:\n",
    "        print(e)\n",
    "        print('오류발생')\n",
    "print('완료')"
   ]
  }
 ],
 "metadata": {
  "kernelspec": {
   "display_name": "py310",
   "language": "python",
   "name": "py310"
  },
  "language_info": {
   "codemirror_mode": {
    "name": "ipython",
    "version": 3
   },
   "file_extension": ".py",
   "mimetype": "text/x-python",
   "name": "python",
   "nbconvert_exporter": "python",
   "pygments_lexer": "ipython3",
   "version": "3.10.17"
  }
 },
 "nbformat": 4,
 "nbformat_minor": 5
}
